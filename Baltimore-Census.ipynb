{
 "cells": [
  {
   "cell_type": "markdown",
   "metadata": {},
   "source": [
    "# Prep files and libraries\n",
    "* Import standard Numpy and Pandas libraries for analysis\n",
    "* Bring in the census data from file and put in in a pandas dataframe\n",
    "* Get rid of the geom column. It contains a lot of geographic data that we will not be using \n",
    "* Data was pulled from the [Baltimore City Public Data website](https://data.baltimorecity.gov/Neighborhoods/2010-Census-Neighborhoods/r3qj-2ifh)"
   ]
  },
  {
   "cell_type": "code",
   "execution_count": 2,
   "metadata": {},
   "outputs": [
    {
     "name": "stdout",
     "output_type": "stream",
     "text": [
      "(200, 45)\n"
     ]
    }
   ],
   "source": [
    "%matplotlib inline\n",
    "import pandas as pd\n",
    "import numpy as np\n",
    "import matplotlib.pyplot as plt\n",
    "import seaborn as sb\n",
    "\n",
    "\n",
    "\n",
    "raw_data = pd.read_csv('2010_Census_Profile_by_Census_Tracts.csv')\n",
    "del raw_data['the_geom']\n",
    "\n",
    "#45 different catagories over 200 census blocks\n",
    "print(raw_data.shape)"
   ]
  },
  {
   "cell_type": "markdown",
   "metadata": {},
   "source": [
    "# What are the columns that I have?\n",
    "- We want to take a look at all the different columns we have, so we know what we are working with\n",
    "- This should give us our first sense of the data"
   ]
  },
  {
   "cell_type": "code",
   "execution_count": 3,
   "metadata": {
    "scrolled": true
   },
   "outputs": [
    {
     "name": "stdout",
     "output_type": "stream",
     "text": [
      "Index(['NAME', 'Population', 'White', 'Blk_AfAm', 'AmInd_AkNa', 'Asian',\n",
      "       'NatHaw_Pac', 'Other_Race', 'TwoOrMore', 'Hisp_Lat', 'PopOver18',\n",
      "       'Ovr18White', 'Ovr18Blk_A', 'Ovr18AmInd', 'Ovr18Asian', 'Ovr18Haw_P',\n",
      "       'Ovr18Other', 'Ovr18TwoOr', 'Ovr18HispL', 'Male', 'Female', 'AGE0_4',\n",
      "       'AGE5_11', 'AGE12_14', 'AGE15_17', 'AGE18_24', 'AGE25_34', 'AGE35_44',\n",
      "       'AGE45_64', 'AGE65ovr', 'Families', 'Married', 'Married18', 'MaleHH',\n",
      "       'MaleHH18', 'FemaleHH', 'FemaleHH18', 'Housing', 'Occupied', 'Occ_Own',\n",
      "       'Occ_Rent', 'Vacant', 'Vac_Rent', 'Vac_Sale', 'Vac_Other'],\n",
      "      dtype='object')\n"
     ]
    },
    {
     "data": {
      "text/html": [
       "<div>\n",
       "<style>\n",
       "    .dataframe thead tr:only-child th {\n",
       "        text-align: right;\n",
       "    }\n",
       "\n",
       "    .dataframe thead th {\n",
       "        text-align: left;\n",
       "    }\n",
       "\n",
       "    .dataframe tbody tr th {\n",
       "        vertical-align: top;\n",
       "    }\n",
       "</style>\n",
       "<table border=\"1\" class=\"dataframe\">\n",
       "  <thead>\n",
       "    <tr style=\"text-align: right;\">\n",
       "      <th></th>\n",
       "      <th>NAME</th>\n",
       "      <th>Population</th>\n",
       "      <th>White</th>\n",
       "      <th>Blk_AfAm</th>\n",
       "      <th>AmInd_AkNa</th>\n",
       "      <th>Asian</th>\n",
       "      <th>NatHaw_Pac</th>\n",
       "      <th>Other_Race</th>\n",
       "      <th>TwoOrMore</th>\n",
       "      <th>Hisp_Lat</th>\n",
       "      <th>...</th>\n",
       "      <th>FemaleHH</th>\n",
       "      <th>FemaleHH18</th>\n",
       "      <th>Housing</th>\n",
       "      <th>Occupied</th>\n",
       "      <th>Occ_Own</th>\n",
       "      <th>Occ_Rent</th>\n",
       "      <th>Vacant</th>\n",
       "      <th>Vac_Rent</th>\n",
       "      <th>Vac_Sale</th>\n",
       "      <th>Vac_Other</th>\n",
       "    </tr>\n",
       "  </thead>\n",
       "  <tbody>\n",
       "    <tr>\n",
       "      <th>0</th>\n",
       "      <td>Census Tract 1510</td>\n",
       "      <td>5214</td>\n",
       "      <td>94</td>\n",
       "      <td>5029</td>\n",
       "      <td>19</td>\n",
       "      <td>14</td>\n",
       "      <td>0</td>\n",
       "      <td>8</td>\n",
       "      <td>50</td>\n",
       "      <td>41</td>\n",
       "      <td>...</td>\n",
       "      <td>635</td>\n",
       "      <td>262</td>\n",
       "      <td>2339</td>\n",
       "      <td>1822</td>\n",
       "      <td>892</td>\n",
       "      <td>930</td>\n",
       "      <td>517</td>\n",
       "      <td>152</td>\n",
       "      <td>27</td>\n",
       "      <td>338</td>\n",
       "    </tr>\n",
       "    <tr>\n",
       "      <th>1</th>\n",
       "      <td>Census Tract 807</td>\n",
       "      <td>1137</td>\n",
       "      <td>22</td>\n",
       "      <td>1086</td>\n",
       "      <td>0</td>\n",
       "      <td>5</td>\n",
       "      <td>0</td>\n",
       "      <td>9</td>\n",
       "      <td>15</td>\n",
       "      <td>22</td>\n",
       "      <td>...</td>\n",
       "      <td>153</td>\n",
       "      <td>72</td>\n",
       "      <td>726</td>\n",
       "      <td>382</td>\n",
       "      <td>176</td>\n",
       "      <td>206</td>\n",
       "      <td>344</td>\n",
       "      <td>22</td>\n",
       "      <td>19</td>\n",
       "      <td>303</td>\n",
       "    </tr>\n",
       "    <tr>\n",
       "      <th>2</th>\n",
       "      <td>Census Tract 805</td>\n",
       "      <td>1704</td>\n",
       "      <td>12</td>\n",
       "      <td>1661</td>\n",
       "      <td>6</td>\n",
       "      <td>6</td>\n",
       "      <td>0</td>\n",
       "      <td>2</td>\n",
       "      <td>17</td>\n",
       "      <td>11</td>\n",
       "      <td>...</td>\n",
       "      <td>230</td>\n",
       "      <td>80</td>\n",
       "      <td>735</td>\n",
       "      <td>543</td>\n",
       "      <td>282</td>\n",
       "      <td>261</td>\n",
       "      <td>192</td>\n",
       "      <td>52</td>\n",
       "      <td>19</td>\n",
       "      <td>121</td>\n",
       "    </tr>\n",
       "    <tr>\n",
       "      <th>3</th>\n",
       "      <td>Census Tract 1505</td>\n",
       "      <td>1543</td>\n",
       "      <td>14</td>\n",
       "      <td>1486</td>\n",
       "      <td>3</td>\n",
       "      <td>2</td>\n",
       "      <td>0</td>\n",
       "      <td>10</td>\n",
       "      <td>28</td>\n",
       "      <td>6</td>\n",
       "      <td>...</td>\n",
       "      <td>211</td>\n",
       "      <td>85</td>\n",
       "      <td>757</td>\n",
       "      <td>679</td>\n",
       "      <td>281</td>\n",
       "      <td>398</td>\n",
       "      <td>78</td>\n",
       "      <td>21</td>\n",
       "      <td>6</td>\n",
       "      <td>51</td>\n",
       "    </tr>\n",
       "    <tr>\n",
       "      <th>4</th>\n",
       "      <td>Census Tract 2703.02</td>\n",
       "      <td>1764</td>\n",
       "      <td>759</td>\n",
       "      <td>914</td>\n",
       "      <td>4</td>\n",
       "      <td>27</td>\n",
       "      <td>0</td>\n",
       "      <td>17</td>\n",
       "      <td>43</td>\n",
       "      <td>40</td>\n",
       "      <td>...</td>\n",
       "      <td>127</td>\n",
       "      <td>61</td>\n",
       "      <td>786</td>\n",
       "      <td>707</td>\n",
       "      <td>500</td>\n",
       "      <td>207</td>\n",
       "      <td>79</td>\n",
       "      <td>31</td>\n",
       "      <td>8</td>\n",
       "      <td>40</td>\n",
       "    </tr>\n",
       "  </tbody>\n",
       "</table>\n",
       "<p>5 rows × 45 columns</p>\n",
       "</div>"
      ],
      "text/plain": [
       "                   NAME  Population  White  Blk_AfAm  AmInd_AkNa  Asian  \\\n",
       "0     Census Tract 1510        5214     94      5029          19     14   \n",
       "1      Census Tract 807        1137     22      1086           0      5   \n",
       "2      Census Tract 805        1704     12      1661           6      6   \n",
       "3     Census Tract 1505        1543     14      1486           3      2   \n",
       "4  Census Tract 2703.02        1764    759       914           4     27   \n",
       "\n",
       "   NatHaw_Pac  Other_Race  TwoOrMore  Hisp_Lat    ...      FemaleHH  \\\n",
       "0           0           8         50        41    ...           635   \n",
       "1           0           9         15        22    ...           153   \n",
       "2           0           2         17        11    ...           230   \n",
       "3           0          10         28         6    ...           211   \n",
       "4           0          17         43        40    ...           127   \n",
       "\n",
       "   FemaleHH18  Housing  Occupied  Occ_Own  Occ_Rent  Vacant  Vac_Rent  \\\n",
       "0         262     2339      1822      892       930     517       152   \n",
       "1          72      726       382      176       206     344        22   \n",
       "2          80      735       543      282       261     192        52   \n",
       "3          85      757       679      281       398      78        21   \n",
       "4          61      786       707      500       207      79        31   \n",
       "\n",
       "   Vac_Sale  Vac_Other  \n",
       "0        27        338  \n",
       "1        19        303  \n",
       "2        19        121  \n",
       "3         6         51  \n",
       "4         8         40  \n",
       "\n",
       "[5 rows x 45 columns]"
      ]
     },
     "execution_count": 3,
     "metadata": {},
     "output_type": "execute_result"
    }
   ],
   "source": [
    "print(raw_data.columns)\n",
    "raw_data[:5]"
   ]
  },
  {
   "cell_type": "markdown",
   "metadata": {},
   "source": [
    "# What is the population distribution look like?\n",
    "Neighborhoods are broken up per hundred people, so the first bar represents 0-100 people, the second 100-200, and so on"
   ]
  },
  {
   "cell_type": "code",
   "execution_count": 4,
   "metadata": {},
   "outputs": [
    {
     "data": {
      "image/png": "[encoded data removed]",
      "text/plain": [
       "<matplotlib.figure.Figure at 0x9e569c0c50>"
      ]
     },
     "metadata": {},
     "output_type": "display_data"
    }
   ],
   "source": [
    "sb.distplot(raw_data['Population'], kde = False, bins = 20)\n",
    "plt.ylabel(\"Number of Neighborhoods\")\n",
    "plt.xlabel('Total Population')\n",
    "plt.show()"
   ]
  },
  {
   "cell_type": "markdown",
   "metadata": {},
   "source": [
    "### What about neighborhood distributions based on racial make up?"
   ]
  },
  {
   "cell_type": "code",
   "execution_count": 5,
   "metadata": {},
   "outputs": [
    {
     "data": {
      "text/plain": [
       "<matplotlib.axes._subplots.AxesSubplot at 0x9e565844a8>"
      ]
     },
     "execution_count": 5,
     "metadata": {},
     "output_type": "execute_result"
    },
    {
     "data": {
      "image/png": "[encoded data removed]",
      "text/plain": [
       "<matplotlib.figure.Figure at 0x9e564dba58>"
      ]
     },
     "metadata": {},
     "output_type": "display_data"
    }
   ],
   "source": [
    "sb.distplot(raw_data['White'], kde = False, axlabel = \"test\", color = \"#ff00ff\")\n",
    "sb.distplot(raw_data['Blk_AfAm'], kde = False, axlabel = \"test\")"
   ]
  },
  {
   "cell_type": "markdown",
   "metadata": {},
   "source": [
    "### This gives us some interesting insights on basic baltimore Makups\n",
    "* Over 100 (half) census districts in Baltimore contain fewer than 500 white citizens\n",
    "* Black Neighborhods are a little more distibuted in terms of size. "
   ]
  },
  {
   "cell_type": "code",
   "execution_count": 6,
   "metadata": {},
   "outputs": [
    {
     "data": {
      "text/html": [
       "<div>\n",
       "<style>\n",
       "    .dataframe thead tr:only-child th {\n",
       "        text-align: right;\n",
       "    }\n",
       "\n",
       "    .dataframe thead th {\n",
       "        text-align: left;\n",
       "    }\n",
       "\n",
       "    .dataframe tbody tr th {\n",
       "        vertical-align: top;\n",
       "    }\n",
       "</style>\n",
       "<table border=\"1\" class=\"dataframe\">\n",
       "  <thead>\n",
       "    <tr style=\"text-align: right;\">\n",
       "      <th></th>\n",
       "      <th>NAME</th>\n",
       "      <th>Population</th>\n",
       "      <th>White</th>\n",
       "      <th>Blk_AfAm</th>\n",
       "      <th>AmInd_AkNa</th>\n",
       "      <th>Asian</th>\n",
       "      <th>NatHaw_Pac</th>\n",
       "      <th>Other_Race</th>\n",
       "      <th>TwoOrMore</th>\n",
       "      <th>Hisp_Lat</th>\n",
       "      <th>...</th>\n",
       "      <th>FemaleHH</th>\n",
       "      <th>FemaleHH18</th>\n",
       "      <th>Housing</th>\n",
       "      <th>Occupied</th>\n",
       "      <th>Occ_Own</th>\n",
       "      <th>Occ_Rent</th>\n",
       "      <th>Vacant</th>\n",
       "      <th>Vac_Rent</th>\n",
       "      <th>Vac_Sale</th>\n",
       "      <th>Vac_Other</th>\n",
       "    </tr>\n",
       "  </thead>\n",
       "  <tbody>\n",
       "    <tr>\n",
       "      <th>90</th>\n",
       "      <td>Census Tract 2702</td>\n",
       "      <td>1914</td>\n",
       "      <td>1017</td>\n",
       "      <td>785</td>\n",
       "      <td>13</td>\n",
       "      <td>19</td>\n",
       "      <td>0</td>\n",
       "      <td>23</td>\n",
       "      <td>57</td>\n",
       "      <td>63</td>\n",
       "      <td>...</td>\n",
       "      <td>135</td>\n",
       "      <td>68</td>\n",
       "      <td>817</td>\n",
       "      <td>748</td>\n",
       "      <td>545</td>\n",
       "      <td>203</td>\n",
       "      <td>69</td>\n",
       "      <td>19</td>\n",
       "      <td>15</td>\n",
       "      <td>35</td>\n",
       "    </tr>\n",
       "  </tbody>\n",
       "</table>\n",
       "<p>1 rows × 45 columns</p>\n",
       "</div>"
      ],
      "text/plain": [
       "                 NAME  Population  White  Blk_AfAm  AmInd_AkNa  Asian  \\\n",
       "90  Census Tract 2702        1914   1017       785          13     19   \n",
       "\n",
       "    NatHaw_Pac  Other_Race  TwoOrMore  Hisp_Lat    ...      FemaleHH  \\\n",
       "90           0          23         57        63    ...           135   \n",
       "\n",
       "    FemaleHH18  Housing  Occupied  Occ_Own  Occ_Rent  Vacant  Vac_Rent  \\\n",
       "90          68      817       748      545       203      69        19   \n",
       "\n",
       "    Vac_Sale  Vac_Other  \n",
       "90        15         35  \n",
       "\n",
       "[1 rows x 45 columns]"
      ]
     },
     "execution_count": 6,
     "metadata": {},
     "output_type": "execute_result"
    }
   ],
   "source": [
    "lauraville = raw_data[raw_data['NAME'] == 'Census Tract 2702']\n",
    "lauraville"
   ]
  },
  {
   "cell_type": "code",
   "execution_count": 7,
   "metadata": {},
   "outputs": [
    {
     "name": "stdout",
     "output_type": "stream",
     "text": [
      "Total white population of Baltimore (200 Census Districts): 183830\n",
      "Total white population in top 20 census districts: 61299\n",
      "Total white population in bottom 100 census districts: 11093\n",
      "\n",
      "\n",
      "Total black population of Baltimore (200 Census Districts): 395781\n",
      "Total black population in top 20 census districts: 89757\n",
      "Total black population in bottom 100 census districts: 82052\n"
     ]
    }
   ],
   "source": [
    "white_pop = raw_data['White'].copy().sort_values()\n",
    "#print(white_pop)\n",
    "print(\"Total white population of Baltimore (200 Census Districts): %d\" % np.sum(white_pop))\n",
    "print(\"Total white population in top 20 census districts: %d\" % np.sum(white_pop[-20 : -1]))\n",
    "print(\"Total white population in bottom 100 census districts: %d\" % np.sum(white_pop[1 : 100]))\n",
    "print('\\n')\n",
    "\n",
    "\n",
    "black_pop = raw_data['Blk_AfAm'].copy().sort_values()\n",
    "print(\"Total black population of Baltimore (200 Census Districts): %d\" % np.sum(black_pop))\n",
    "print(\"Total black population in top 20 census districts: %d\" % np.sum(black_pop[-20 : -1]))\n",
    "print(\"Total black population in bottom 100 census districts: %d\" % np.sum(black_pop[1 : 100]))"
   ]
  },
  {
   "cell_type": "code",
   "execution_count": null,
   "metadata": {
    "collapsed": true
   },
   "outputs": [],
   "source": []
  },
  {
   "cell_type": "code",
   "execution_count": 8,
   "metadata": {
    "collapsed": true
   },
   "outputs": [],
   "source": [
    "import matplotlib.pyplot as plt"
   ]
  },
  {
   "cell_type": "code",
   "execution_count": 9,
   "metadata": {},
   "outputs": [
    {
     "data": {
      "image/png": "[encoded data removed]",
      "text/plain": [
       "<matplotlib.figure.Figure at 0x9e5667def0>"
      ]
     },
     "metadata": {},
     "output_type": "display_data"
    },
    {
     "data": {
      "text/plain": [
       "<matplotlib.figure.Figure at 0x9e5667dcf8>"
      ]
     },
     "metadata": {},
     "output_type": "display_data"
    },
    {
     "data": {
      "image/png": "[encoded data removed]",
      "text/plain": [
       "<matplotlib.figure.Figure at 0x9e560007b8>"
      ]
     },
     "metadata": {},
     "output_type": "display_data"
    },
    {
     "data": {
      "text/plain": [
       "<matplotlib.figure.Figure at 0x9e5675fcf8>"
      ]
     },
     "metadata": {},
     "output_type": "display_data"
    },
    {
     "name": "stdout",
     "output_type": "stream",
     "text": [
      "White Population Percent Median and Standard Deviation: 0.141840497175, 0.3080005930554685\n",
      "Black Population Percent Median and Standard Deviation: 0.816532009549, 0.34623771993746677\n",
      "Total Population Standard Deviation: 1320.7887669778995\n"
     ]
    }
   ],
   "source": [
    "plt.boxplot([raw_data['Population'], raw_data['White'], raw_data['Blk_AfAm'] ], 0, 'rD', 0)\n",
    "plt.figure()\n",
    "#plt.boxplot(raw_data['White'], 0, '', 0)\n",
    "plt.figure()\n",
    "w_percent = raw_data['White'] / raw_data['Population']\n",
    "b_percent = raw_data['Blk_AfAm']/ raw_data['Population']\n",
    "plt.boxplot([w_percent, b_percent], 0, 'rs', 0)\n",
    "plt.figure()\n",
    "plt.show()\n",
    "print('White Population Percent Median and Standard Deviation: ' + str(np.median(w_percent)) + ', ' + str(np.std(w_percent)))\n",
    "print('Black Population Percent Median and Standard Deviation: ' + str(np.median(b_percent)) + ', ' + str(np.std(b_percent)))\n",
    "print(\"Total Population Standard Deviation: \" + str(np.std(raw_data['Population'])))"
   ]
  },
  {
   "cell_type": "code",
   "execution_count": 10,
   "metadata": {},
   "outputs": [
    {
     "name": "stdout",
     "output_type": "stream",
     "text": [
      "183830\n"
     ]
    }
   ],
   "source": [
    "print(np.sum(raw_data['White']))"
   ]
  },
  {
   "cell_type": "code",
   "execution_count": 11,
   "metadata": {},
   "outputs": [
    {
     "data": {
      "image/png": "[encoded data removed]",
      "text/plain": [
       "<matplotlib.figure.Figure at 0x9e517210b8>"
      ]
     },
     "metadata": {},
     "output_type": "display_data"
    }
   ],
   "source": [
    "bw_percent = (raw_data['Blk_AfAm'] + raw_data['White'])/ raw_data['Population']\n",
    "bw_percent.plot.hist()\n",
    "plt.show()"
   ]
  },
  {
   "cell_type": "markdown",
   "metadata": {},
   "source": [
    "# What number of neighborhoods in Baltimore are highly gentrified?\n",
    "* Let's see where black and white populations make up more than 90% of the population"
   ]
  },
  {
   "cell_type": "code",
   "execution_count": 12,
   "metadata": {},
   "outputs": [
    {
     "name": "stdout",
     "output_type": "stream",
     "text": [
      "Neighborhoods where black and white people make up more than 90% of pop:  159\n",
      "Neighborhoods where white people make up more than 90% of pop:  5\n",
      "Neighborhoods where white people make up fewer than 29% of pop:  117\n",
      "Neighborhoods where black people make up more than 90% of pop:  77\n"
     ]
    }
   ],
   "source": [
    "print(\"Neighborhoods where black and white people make up more than 90% of pop: \", bw_percent[bw_percent >.90].count())\n",
    "print(\"Neighborhoods where white people make up more than 90% of pop: \", w_percent[w_percent >.90].count())\n",
    "print(\"Neighborhoods where white people make up fewer than 29% of pop: \",w_percent[w_percent <.29].count()) #City wide average\n",
    "print(\"Neighborhoods where black people make up more than 90% of pop: \", b_percent[b_percent >.90].count())"
   ]
  },
  {
   "cell_type": "markdown",
   "metadata": {},
   "source": [
    "## There are 41 neighborhoods that are not overwhelmingly (90%) black and white. Let's look at the Asian and Hispanic population numbers in those areas"
   ]
  },
  {
   "cell_type": "code",
   "execution_count": 23,
   "metadata": {},
   "outputs": [
    {
     "name": "stdout",
     "output_type": "stream",
     "text": [
      "                     NAME  Population  Asian  Hisp_Lat\n",
      "5       Census Tract 1201        4790    860       167\n",
      "8       Census Tract 1401        4974    361       163\n",
      "10   Census Tract 1308.03        2748    216       113\n",
      "13      Census Tract 1101        3223    349       155\n",
      "17      Census Tract 1207        2476    219       113\n",
      "19       Census Tract 601        3222     61       818\n",
      "21      Census Tract 1102        5072    422       240\n",
      "24   Census Tract 2708.04        2804    102       209\n",
      "49      Census Tract 1206        3269    214       185\n",
      "55      Census Tract 2610        3253     43       944\n",
      "59   Census Tract 2503.03        2324     85       119\n",
      "65       Census Tract 102        3009     72       489\n",
      "67      Census Tract 2609        2652     84       264\n",
      "76      Census Tract 1902        1920     34       175\n",
      "88       Census Tract 401        4006    835       225\n",
      "99      Census Tract 2506          22      0         5\n",
      "100     Census Tract 2505        5468    114       348\n",
      "108      Census Tract 202        2087    133       700\n",
      "111      Census Tract 203        3344    171       243\n",
      "114      Census Tract 302        2342    165       147\n",
      "118      Census Tract 402         838    169        21\n",
      "121      Census Tract 602        3265     70       585\n",
      "122     Census Tract 2608        2647     51      1006\n",
      "126  Census Tract 2504.01        3823    107       547\n",
      "130  Census Tract 2502.05        4689    133       896\n",
      "137  Census Tract 2606.05        4795    105      1003\n",
      "138  Census Tract 2504.02        4930     32       495\n",
      "140  Census Tract 2604.01        3230     14       816\n",
      "141     Census Tract 2713        2791    308        60\n",
      "145      Census Tract 603        1800     43       231\n",
      "149  Census Tract 2604.04        1996     78       737\n",
      "156  Census Tract 1202.01        2033    167        80\n",
      "157     Census Tract 2714        3730    393       115\n",
      "160  Census Tract 2605.01        4875    173      1220\n",
      "163      Census Tract 201        1884     59       239\n",
      "167  Census Tract 2606.04        1465     14       244\n",
      "169     Census Tract 2102        3373    226       123\n",
      "176  Census Tract 1202.02        6224   1709       345\n",
      "177  Census Tract 2720.07        4367    150       623\n",
      "180      Census Tract 105        1724     53       185\n",
      "199     Census Tract 2607        2260     31       814\n"
     ]
    }
   ],
   "source": [
    "print(raw_data[(raw_data[\"White\"] + raw_data['Blk_AfAm']) / raw_data['Population'] < .90][['NAME', 'Population', 'Asian', 'Hisp_Lat']])"
   ]
  },
  {
   "cell_type": "markdown",
   "metadata": {},
   "source": [
    "# There are many interesting looking results that we could get by looking at percentages, so let's create a DataFrame that is solely that."
   ]
  },
  {
   "cell_type": "code",
   "execution_count": 14,
   "metadata": {
    "collapsed": true
   },
   "outputs": [],
   "source": [
    "percentage = 100 * raw_data[['Blk_AfAm', 'White', 'Asian', 'Hisp_Lat']].copy().div(raw_data['Population'],  axis = 0)\n",
    "percentage['NAME'] = raw_data['NAME']\n",
    "percentage.rename(columns = {'Blk_AfAm' : 'Black', 'Hisp_Lat' : 'Hispanic/Latino'}, inplace = True)"
   ]
  },
  {
   "cell_type": "markdown",
   "metadata": {},
   "source": [
    "# How many neighborhods count X% of an ethnic group?\n",
    "* Each bar represents a 5% increase in neighborhood population (e.g. If one bar is 20%, the next represents 25%)\n",
    "* Each graph represents a different ethnic backgound\n",
    "* Note: not all graphs have the same y-axis dimension, do to underrepresentation of certain ethnic groups in a significant number of neighborhoods (E.G. There are over 100 neighborhoods that are between 0%-5% Asian)"
   ]
  },
  {
   "cell_type": "code",
   "execution_count": 15,
   "metadata": {},
   "outputs": [
    {
     "data": {
      "image/png": "[encoded data removed]",
      "text/plain": [
       "<matplotlib.figure.Figure at 0x9e568e8d30>"
      ]
     },
     "metadata": {},
     "output_type": "display_data"
    },
    {
     "data": {
      "image/png": "[encoded data removed]",
      "text/plain": [
       "<matplotlib.figure.Figure at 0x9e56663588>"
      ]
     },
     "metadata": {},
     "output_type": "display_data"
    },
    {
     "data": {
      "image/png": "[encoded data removed]",
      "text/plain": [
       "<matplotlib.figure.Figure at 0x9e56546eb8>"
      ]
     },
     "metadata": {},
     "output_type": "display_data"
    },
    {
     "data": {
      "image/png": "[encoded data removed]",
      "text/plain": [
       "<matplotlib.figure.Figure at 0x9e56638240>"
      ]
     },
     "metadata": {},
     "output_type": "display_data"
    }
   ],
   "source": [
    "for col in percentage:\n",
    "    if col == 'NAME':\n",
    "        break\n",
    "    sb.distplot(percentage[col], kde = False, bins = 20)\n",
    "    plt.title('Number of Neighborhoods based \\n on ' + col + \" citizen percentage\")\n",
    "    plt.xlabel('Percent of ' + col + ' Citizens')\n",
    "    plt.ylabel('Number of \\n Neighborhoods')\n",
    "    plt.xlim(0,100)\n",
    "    plt.show()"
   ]
  },
  {
   "cell_type": "markdown",
   "metadata": {},
   "source": [
    "# Interesting Results\n",
    "* There is a strong up tick in neighborhoods that are 80% or greater black.\n",
    "* There is a strange lack of Neighborhoods that are between 40%-50% black.\n",
    "* The white graph almost mirrors the black one (makes sense, since these are the majority populations)\n",
    "* Latinos and Asians do not make up a majority in any census block in the city, although there are pockets with significant populations of each. Future analysis could be down to see how these are related geographically."
   ]
  }
 ],
 "metadata": {
  "kernelspec": {
   "display_name": "Python 3",
   "language": "python",
   "name": "python3"
  },
  "language_info": {
   "codemirror_mode": {
    "name": "ipython",
    "version": 3
   },
   "file_extension": ".py",
   "mimetype": "text/x-python",
   "name": "python",
   "nbconvert_exporter": "python",
   "pygments_lexer": "ipython3",
   "version": "3.6.1"
  }
 },
 "nbformat": 4,
 "nbformat_minor": 2
}
