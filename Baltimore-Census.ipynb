{
 "cells": [
  {
   "cell_type": "code",
   "execution_count": 17,
   "metadata": {
    "collapsed": true
   },
   "outputs": [],
   "source": [
    "import pandas as pd\n",
    "import numpy as np"
   ]
  },
  {
   "cell_type": "code",
   "execution_count": 18,
   "metadata": {
    "collapsed": true
   },
   "outputs": [],
   "source": [
    "raw_data = pd.read_csv('2010_Census_Profile_by_Census_Tracts.csv')\n",
    "del raw_data['the_geom']"
   ]
  },
  {
   "cell_type": "code",
   "execution_count": 45,
   "metadata": {},
   "outputs": [
    {
     "name": "stdout",
     "output_type": "stream",
     "text": [
      "(200, 45)\n"
     ]
    }
   ],
   "source": [
    "#45 different catagories over 200 census blocks\n",
    "print(raw_data.shape)"
   ]
  },
  {
   "cell_type": "code",
   "execution_count": 50,
   "metadata": {},
   "outputs": [
    {
     "name": "stdout",
     "output_type": "stream",
     "text": [
      "Index(['NAME', 'Population', 'White', 'Blk_AfAm', 'AmInd_AkNa', 'Asian',\n",
      "       'NatHaw_Pac', 'Other_Race', 'TwoOrMore', 'Hisp_Lat', 'PopOver18',\n",
      "       'Ovr18White', 'Ovr18Blk_A', 'Ovr18AmInd', 'Ovr18Asian', 'Ovr18Haw_P',\n",
      "       'Ovr18Other', 'Ovr18TwoOr', 'Ovr18HispL', 'Male', 'Female', 'AGE0_4',\n",
      "       'AGE5_11', 'AGE12_14', 'AGE15_17', 'AGE18_24', 'AGE25_34', 'AGE35_44',\n",
      "       'AGE45_64', 'AGE65ovr', 'Families', 'Married', 'Married18', 'MaleHH',\n",
      "       'MaleHH18', 'FemaleHH', 'FemaleHH18', 'Housing', 'Occupied', 'Occ_Own',\n",
      "       'Occ_Rent', 'Vacant', 'Vac_Rent', 'Vac_Sale', 'Vac_Other'],\n",
      "      dtype='object')\n"
     ]
    }
   ],
   "source": [
    "print(raw_data.columns)"
   ]
  },
  {
   "cell_type": "code",
   "execution_count": null,
   "metadata": {
    "collapsed": true
   },
   "outputs": [],
   "source": [
    "print()"
   ]
  },
  {
   "cell_type": "code",
   "execution_count": 53,
   "metadata": {},
   "outputs": [
    {
     "data": {
      "image/png": "[encoded data removed]",
      "text/plain": [
       "<matplotlib.figure.Figure at 0x7fc19bac9eb8>"
      ]
     },
     "metadata": {},
     "output_type": "display_data"
    }
   ],
   "source": [
    "raw_data['Blk_AfAm'].plot.hist(alpha = .5, bins = 65, range = (0, 6500))\n",
    "raw_data['White'].plot.hist(alpha = .5, bins = 65, range = (0, 6500))\n",
    "plt.show()"
   ]
  },
  {
   "cell_type": "code",
   "execution_count": null,
   "metadata": {
    "collapsed": true
   },
   "outputs": [],
   "source": []
  },
  {
   "cell_type": "code",
   "execution_count": 52,
   "metadata": {},
   "outputs": [
    {
     "data": {
      "image/png": "[encoded data removed]",
      "text/plain": [
       "<matplotlib.figure.Figure at 0x7fc19cddd320>"
      ]
     },
     "metadata": {},
     "output_type": "display_data"
    }
   ],
   "source": [
    "raw_data['Population'].plot.hist(bins = 65, range = (0, 6500))\n",
    "plt.show()"
   ]
  },
  {
   "cell_type": "code",
   "execution_count": 22,
   "metadata": {},
   "outputs": [
    {
     "name": "stdout",
     "output_type": "stream",
     "text": [
      "                     NAME  Population\n",
      "99      Census Tract 2506          22\n",
      "60   Census Tract 2603.03         778\n",
      "118      Census Tract 402         838\n",
      "170  Census Tract 2715.03         856\n",
      "78      Census Tract 1802         977\n",
      "158  Census Tract 1308.05         985\n",
      "186      Census Tract 703        1042\n",
      "181     Census Tract 2303        1136\n",
      "1        Census Tract 807        1137\n",
      "171      Census Tract 604        1183\n",
      "173      Census Tract 704        1241\n",
      "196      Census Tract 808        1281\n",
      "32      Census Tract 1204        1313\n",
      "97   Census Tract 2007.02        1426\n",
      "75   Census Tract 1308.06        1431\n",
      "167  Census Tract 2606.04        1465\n",
      "3       Census Tract 1505        1543\n",
      "161     Census Tract 1603        1558\n",
      "189      Census Tract 804        1564\n",
      "116  Census Tract 2804.02        1574\n",
      "194  Census Tract 2604.03        1575\n",
      "183      Census Tract 802        1585\n",
      "96       Census Tract 904        1586\n",
      "51      Census Tract 1701        1602\n",
      "68      Census Tract 2004        1691\n",
      "86   Census Tract 1507.01        1696\n",
      "89   Census Tract 2701.01        1698\n",
      "2        Census Tract 805        1704\n",
      "180      Census Tract 105        1724\n",
      "42      Census Tract 1205        1751\n",
      "..                    ...         ...\n",
      "132  Census Tract 2709.02        4754\n",
      "26   Census Tract 2601.01        4763\n",
      "5       Census Tract 1201        4790\n",
      "137  Census Tract 2606.05        4795\n",
      "40      Census Tract 2802        4828\n",
      "160  Census Tract 2605.01        4875\n",
      "27   Census Tract 2601.02        4911\n",
      "138  Census Tract 2504.02        4930\n",
      "72   Census Tract 2603.01        4933\n",
      "82   Census Tract 2708.05        4952\n",
      "8       Census Tract 1401        4974\n",
      "135  Census Tract 2708.02        4992\n",
      "21      Census Tract 1102        5072\n",
      "56   Census Tract 2804.03        5073\n",
      "136  Census Tract 2602.01        5116\n",
      "7       Census Tract 1307        5192\n",
      "0       Census Tract 1510        5214\n",
      "155     Census Tract 1003        5237\n",
      "16   Census Tract 2704.01        5412\n",
      "100     Census Tract 2505        5468\n",
      "153     Census Tract 1607        5615\n",
      "166     Census Tract 2717        5648\n",
      "62   Census Tract 2720.03        5817\n",
      "154  Census Tract 2602.02        5937\n",
      "64   Census Tract 2801.02        6045\n",
      "182  Census Tract 2603.02        6094\n",
      "20      Census Tract 2712        6103\n",
      "176  Census Tract 1202.02        6224\n",
      "39   Census Tract 2708.03        6268\n",
      "73      Census Tract 1511        6572\n",
      "\n",
      "[200 rows x 2 columns]\n"
     ]
    }
   ],
   "source": [
    "print(raw_data[['NAME', 'Population']].sort_values(['Population']))"
   ]
  },
  {
   "cell_type": "code",
   "execution_count": 23,
   "metadata": {
    "collapsed": true
   },
   "outputs": [],
   "source": [
    "mini_n = raw_data[raw_data['NAME'] == 'Census Tract 2506']\n"
   ]
  },
  {
   "cell_type": "code",
   "execution_count": null,
   "metadata": {
    "collapsed": true
   },
   "outputs": [],
   "source": []
  },
  {
   "cell_type": "code",
   "execution_count": 24,
   "metadata": {
    "collapsed": true
   },
   "outputs": [],
   "source": [
    "#pd.set_option('display.max_rows', 500)\n",
    "#pd.set_option('display.max_columns', 500)"
   ]
  },
  {
   "cell_type": "code",
   "execution_count": 25,
   "metadata": {},
   "outputs": [
    {
     "name": "stdout",
     "output_type": "stream",
     "text": [
      "                 NAME  Population  White  Blk_AfAm  AmInd_AkNa  Asian  \\\n",
      "90  Census Tract 2702        1914   1017       785          13     19   \n",
      "\n",
      "    NatHaw_Pac  Other_Race  TwoOrMore  Hisp_Lat    ...      FemaleHH  \\\n",
      "90           0          23         57        63    ...           135   \n",
      "\n",
      "    FemaleHH18  Housing  Occupied  Occ_Own  Occ_Rent  Vacant  Vac_Rent  \\\n",
      "90          68      817       748      545       203      69        19   \n",
      "\n",
      "    Vac_Sale  Vac_Other  \n",
      "90        15         35  \n",
      "\n",
      "[1 rows x 45 columns]\n"
     ]
    }
   ],
   "source": [
    "lauraville = raw_data[raw_data['NAME'] == 'Census Tract 2702']\n",
    "print(lauraville.head())"
   ]
  },
  {
   "cell_type": "code",
   "execution_count": 26,
   "metadata": {},
   "outputs": [
    {
     "name": "stdout",
     "output_type": "stream",
     "text": [
      "[  94   22   12   14  759 3429   36 4337 2807  357 2074 3207   34 1965 2842\n",
      "   18 1560 1449  113 1104 5080 3017  125  474 1324  202 1619  703   40  838\n",
      "   67  507  162  505  313 1782   57  171   66  517  167 1210  463   91 1687\n",
      " 1171 3809   65   48 1082 1055  326  237  193   46 1155 1300 2492   41 1730\n",
      "  217   22 3936  111  105 2269   81 2227   44 1698 1120 2911  343   79  740\n",
      "  977  604  620   56   43 1432   28  551   37   34 2016   17   35 1985  754\n",
      " 1017 3421  844  588   43  781  161   31   25   17 2975  501   25 1728 3060\n",
      "  212 1974  404 1204 2284   71 2824  920   60 1265  311   19   56  384  262\n",
      "  386 1209 1352   24 1963  170 2422   39 2373  241 1450 1968  272 2742   81\n",
      "  202  629 3090 2002   40 2525 2213 1197   24  929  685  101   39   27  719\n",
      "   20   28   18   40  523  809 1429 2904  162  105 3368   28   46 1465   25\n",
      "  103  272  459   38 1393  725  266   21   18 1967 2519 3681 1636 2690   21\n",
      " 1444 1005  443   20  153   62   51   48  802   45 2939 1771  273   22   57\n",
      "   33   15  420  156 1449]\n",
      "183830\n",
      "9759\n",
      "94096\n"
     ]
    }
   ],
   "source": [
    "white_folks = raw_data['White'].values\n",
    "print(white_folks)\n",
    "print(np.sum(white_folks))\n",
    "print(np.sum(white_folks[-20 : -1]))\n",
    "print(np.sum(white_folks[1 : 100]))"
   ]
  },
  {
   "cell_type": "code",
   "execution_count": 27,
   "metadata": {},
   "outputs": [
    {
     "name": "stdout",
     "output_type": "stream",
     "text": [
      "[5214 1137 1704 1543 1764 4790 2452 5192 4974 4101 2748 3586 2126 3223 4420\n",
      " 2767 5412 2476 2267 3222 6103 5072 4132 1836 2804 2830 4763 4911 3073 4203\n",
      " 2298 4051 1313 3243 2775 4605 2583 2613 3402 6268 4828 3552 1751 2282 1955\n",
      " 2046 4525 4223 2269 3269 3148 1602 1964 3145 3724 3253 5073 2870 1846 2324\n",
      " 778 4619 5817 3782 6045 3009 4215 2652 1691 1951 3142 4050 4933 6572 2713\n",
      " 1431 1920 2333 977 1895 3229 2200 4952 2969 2359 2590 1696 3211 4006 1698\n",
      " 1914 4183 2130 1909 3149 2586 1586 1426 3281 22 5468 3565 3045 2898 4025\n",
      " 2430 4361 3065 2087 2564 3344 3344 3749 2059 2342 3626 1574 2508 838 2282\n",
      " 4603 3265 2647 2525 2208 3226 3823 2993 2571 2910 4689 2141 4754 3022 4043\n",
      " 4992 5116 4795 4930 3175 3230 2791 1953 2011 3881 1800 2853 2388 2515 1996\n",
      " 2478 2699 2937 5615 5937 5237 2033 3730 985 2333 4875 1558 2011 1884 3509\n",
      " 4523 5648 1465 4546 3373 856 1183 4125 1241 2172 2699 6224 4367 3429 2084\n",
      " 1724 1136 6094 1585 2957 2018 1042 2469 3773 1564 3788 3548 3549 4245 1575\n",
      " 3412 1281 4251 2648 2260]\n"
     ]
    }
   ],
   "source": [
    "df = raw_data.values\n",
    "print(df[:, 1])"
   ]
  },
  {
   "cell_type": "code",
   "execution_count": 28,
   "metadata": {
    "collapsed": true
   },
   "outputs": [],
   "source": [
    "import matplotlib.pyplot as plt"
   ]
  },
  {
   "cell_type": "code",
   "execution_count": 29,
   "metadata": {},
   "outputs": [
    {
     "data": {
      "image/png": "[encoded data removed]",
      "text/plain": [
       "<matplotlib.figure.Figure at 0x7fc19d17dd68>"
      ]
     },
     "metadata": {},
     "output_type": "display_data"
    },
    {
     "data": {
      "text/plain": [
       "<matplotlib.figure.Figure at 0x7fc19d17d470>"
      ]
     },
     "metadata": {},
     "output_type": "display_data"
    },
    {
     "data": {
      "image/png": "[encoded data removed]",
      "text/plain": [
       "<matplotlib.figure.Figure at 0x7fc19da28a58>"
      ]
     },
     "metadata": {},
     "output_type": "display_data"
    },
    {
     "data": {
      "text/plain": [
       "<matplotlib.figure.Figure at 0x7fc1cf4d2208>"
      ]
     },
     "metadata": {},
     "output_type": "display_data"
    },
    {
     "name": "stdout",
     "output_type": "stream",
     "text": [
      "White Population Percent Median and Standard Deviation: 0.141840497175, 0.3080005930554685\n",
      "Black Population Percent Median and Standard Deviation: 0.816532009549, 0.34623771993746677\n",
      "Total Population Standard Deviation: 1320.7887669778995\n"
     ]
    }
   ],
   "source": [
    "plt.boxplot([raw_data['Population'], raw_data['White'], raw_data['Blk_AfAm'] ], 0, 'rD', 0)\n",
    "plt.figure()\n",
    "#plt.boxplot(raw_data['White'], 0, '', 0)\n",
    "plt.figure()\n",
    "w_percent = raw_data['White'] / raw_data['Population']\n",
    "b_percent = raw_data['Blk_AfAm']/ raw_data['Population']\n",
    "plt.boxplot([w_percent, b_percent], 0, 'rs', 0)\n",
    "plt.figure()\n",
    "plt.show()\n",
    "print('White Population Percent Median and Standard Deviation: ' + str(np.median(w_percent)) + ', ' + str(np.std(w_percent)))\n",
    "print('Black Population Percent Median and Standard Deviation: ' + str(np.median(b_percent)) + ', ' + str(np.std(b_percent)))\n",
    "print(\"Total Population Standard Deviation: \" + str(np.std(raw_data['Population'])))"
   ]
  },
  {
   "cell_type": "code",
   "execution_count": 30,
   "metadata": {},
   "outputs": [
    {
     "name": "stdout",
     "output_type": "stream",
     "text": [
      "183830\n"
     ]
    }
   ],
   "source": [
    "print(np.sum(raw_data['White']))"
   ]
  },
  {
   "cell_type": "code",
   "execution_count": 57,
   "metadata": {},
   "outputs": [
    {
     "data": {
      "image/png": "[encoded data removed]",
      "text/plain": [
       "<matplotlib.figure.Figure at 0x7fc19bab2f28>"
      ]
     },
     "metadata": {},
     "output_type": "display_data"
    }
   ],
   "source": [
    "bw_percent = (raw_data['Blk_AfAm'] + raw_data['White'])/ raw_data['Population']\n",
    "bw_percent.plot.hist()\n",
    "plt.show()"
   ]
  },
  {
   "cell_type": "code",
   "execution_count": 77,
   "metadata": {},
   "outputs": [
    {
     "name": "stdout",
     "output_type": "stream",
     "text": [
      "Neighborhoods where black and white people make up more than 90% of pop:  159\n",
      "0\n",
      "Neighborhoods where white people make up more than 90% of pop:  5\n",
      "Neighborhoods where white people make up fewer than 29% of pop:  117\n",
      "0.14184049717510253\n",
      "0.2960411362388298\n",
      "Neighborhoods where black people make up more than 90% of pop:  77\n",
      "68\n",
      "0.8165320095490634\n",
      "0.6373685303907974\n"
     ]
    }
   ],
   "source": [
    "print(\"Neighborhoods where black and white people make up more than 90% of pop: \", bw_percent[bw_percent >.90].count())\n",
    "print(bw_percent[bw_percent <.50].count())\n",
    "print(\"Neighborhoods where white people make up more than 90% of pop: \", w_percent[w_percent >.90].count())\n",
    "print(\"Neighborhoods where white people make up fewer than 29% of pop: \",w_percent[w_percent <.29].count())\n",
    "print(w_percent.median())\n",
    "print(np.sum(raw_data['White']) / np.sum(raw_data['Population']))\n",
    "print(\"Neighborhoods where black people make up more than 90% of pop: \", b_percent[b_percent >.90].count())\n",
    "print(b_percent[b_percent <.50].count())\n",
    "print(b_percent.median())\n",
    "print(np.sum(raw_data['Blk_AfAm']) / np.sum(raw_data['Population']))"
   ]
  },
  {
   "cell_type": "code",
   "execution_count": null,
   "metadata": {
    "collapsed": true
   },
   "outputs": [],
   "source": []
  }
 ],
 "metadata": {
  "kernelspec": {
   "display_name": "Python 3",
   "language": "python",
   "name": "python3"
  },
  "language_info": {
   "codemirror_mode": {
    "name": "ipython",
    "version": 3
   },
   "file_extension": ".py",
   "mimetype": "text/x-python",
   "name": "python",
   "nbconvert_exporter": "python",
   "pygments_lexer": "ipython3",
   "version": "3.6.1"
  }
 },
 "nbformat": 4,
 "nbformat_minor": 2
}
